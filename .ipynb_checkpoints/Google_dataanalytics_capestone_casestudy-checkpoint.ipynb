{
 "cells": [
  {
   "cell_type": "markdown",
   "id": "0212e6a0",
   "metadata": {},
   "source": [
    "###### Reading the required libraries"
   ]
  },
  {
   "cell_type": "code",
   "execution_count": 1,
   "id": "05fba85e",
   "metadata": {},
   "outputs": [],
   "source": [
    "import pandas as pd\n",
    "import glob\n",
    "import os"
   ]
  },
  {
   "cell_type": "markdown",
   "id": "1815da01",
   "metadata": {},
   "source": [
    "###### Reading the required data files and combining them to a single dataframe"
   ]
  },
  {
   "cell_type": "code",
   "execution_count": 3,
   "id": "77f5c152",
   "metadata": {},
   "outputs": [],
   "source": [
    "path = r'D:\\Power-Bi\\Google-Data-Analytics-Capstone-Case-Study\\Data' # use your path\n",
    "all_files = glob.glob(os.path.join(path , \"*.csv\"))\n",
    "##D:\\Power Bi\\Google-Data-Analytics-Capstone-Case-Study\\Data\n",
    "li = []\n",
    "\n",
    "for filename in all_files:\n",
    "    df = pd.read_csv(filename, index_col=None, header=0)\n",
    "    li.append(df)\n",
    "frame = pd.concat(li, axis=0, ignore_index=True)"
   ]
  },
  {
   "cell_type": "markdown",
   "id": "238c30f3",
   "metadata": {},
   "source": [
    "###### Preparing and processing the data for analysis"
   ]
  },
  {
   "cell_type": "code",
   "execution_count": 83,
   "id": "8c614d11",
   "metadata": {},
   "outputs": [
    {
     "name": "stderr",
     "output_type": "stream",
     "text": [
      "C:\\Users\\email\\AppData\\Local\\Temp/ipykernel_3004/3292728272.py:5: SettingWithCopyWarning: \n",
      "A value is trying to be set on a copy of a slice from a DataFrame.\n",
      "Try using .loc[row_indexer,col_indexer] = value instead\n",
      "\n",
      "See the caveats in the documentation: https://pandas.pydata.org/pandas-docs/stable/user_guide/indexing.html#returning-a-view-versus-a-copy\n",
      "  frame_req['started_at'] =  pd.to_datetime(frame_req['started_at'])\n",
      "C:\\Users\\email\\AppData\\Local\\Temp/ipykernel_3004/3292728272.py:6: SettingWithCopyWarning: \n",
      "A value is trying to be set on a copy of a slice from a DataFrame.\n",
      "Try using .loc[row_indexer,col_indexer] = value instead\n",
      "\n",
      "See the caveats in the documentation: https://pandas.pydata.org/pandas-docs/stable/user_guide/indexing.html#returning-a-view-versus-a-copy\n",
      "  frame_req['ended_at'] =  pd.to_datetime(frame_req['ended_at'])\n",
      "C:\\Users\\email\\AppData\\Local\\Temp/ipykernel_3004/3292728272.py:9: SettingWithCopyWarning: \n",
      "A value is trying to be set on a copy of a slice from a DataFrame.\n",
      "Try using .loc[row_indexer,col_indexer] = value instead\n",
      "\n",
      "See the caveats in the documentation: https://pandas.pydata.org/pandas-docs/stable/user_guide/indexing.html#returning-a-view-versus-a-copy\n",
      "  frame_req['ride_time'] =  frame_req['ended_at'] - frame_req['started_at']\n"
     ]
    }
   ],
   "source": [
    "## Taking only the required columns\n",
    "frame_req = frame[['ride_id','rideable_type','started_at','ended_at','start_station_id','end_station_id','member_casual']]\n",
    "\n",
    "## Converting the datatypes to required ones\n",
    "frame_req['started_at'] =  pd.to_datetime(frame_req['started_at'])\n",
    "frame_req['ended_at'] =  pd.to_datetime(frame_req['ended_at'])\n",
    "\n",
    "## Calculating the ride time based on stand and end time\n",
    "frame_req['ride_time'] =  frame_req['ended_at'] - frame_req['started_at']"
   ]
  },
  {
   "cell_type": "code",
   "execution_count": 84,
   "id": "eae23507",
   "metadata": {},
   "outputs": [
    {
     "data": {
      "text/plain": [
       "ride_id             0\n",
       "rideable_type       0\n",
       "started_at          0\n",
       "ended_at            0\n",
       "start_station_id    0\n",
       "end_station_id      0\n",
       "member_casual       0\n",
       "ride_time           0\n",
       "dtype: int64"
      ]
     },
     "execution_count": 84,
     "metadata": {},
     "output_type": "execute_result"
    }
   ],
   "source": [
    "## Checking number of null values in each columns\n",
    "frame_req.isna().sum()\n",
    "\n",
    "## Number of null values:\n",
    "## start_station_id    833064\n",
    "## end_station_id      892742\n",
    "\n",
    "## Dropping all rows with null values, woth the assumption that there is no start or end station id, \n",
    "## which could be error or corrupt records for analysis\n",
    "frame_req = frame_req.dropna(how='any',axis=0) \n",
    "\n",
    "## Re-chekcing for missing values\n",
    "frame_req.isna().sum() # 0"
   ]
  },
  {
   "cell_type": "code",
   "execution_count": 85,
   "id": "485abbb5",
   "metadata": {},
   "outputs": [],
   "source": [
    "## Less than 2% entries are below 5mins in which few are in minus ride times\n",
    "## and around 3% entries are more than 1 hour, in which few are for many days\n",
    "## For the analysis and finding trend purpose purpose these records have been removed\n",
    "frame_req = frame_req[frame_req['ride_time'] > '00:05:00']\n",
    "frame_req = frame_req[frame_req['ride_time'] < '01:00:00'] "
   ]
  },
  {
   "cell_type": "code",
   "execution_count": 79,
   "id": "750161bf",
   "metadata": {},
   "outputs": [
    {
     "data": {
      "text/html": [
       "<div>\n",
       "<style scoped>\n",
       "    .dataframe tbody tr th:only-of-type {\n",
       "        vertical-align: middle;\n",
       "    }\n",
       "\n",
       "    .dataframe tbody tr th {\n",
       "        vertical-align: top;\n",
       "    }\n",
       "\n",
       "    .dataframe thead th {\n",
       "        text-align: right;\n",
       "    }\n",
       "</style>\n",
       "<table border=\"1\" class=\"dataframe\">\n",
       "  <thead>\n",
       "    <tr style=\"text-align: right;\">\n",
       "      <th></th>\n",
       "      <th>rideable_type</th>\n",
       "      <th>started_at</th>\n",
       "      <th>ended_at</th>\n",
       "      <th>start_station_id</th>\n",
       "      <th>end_station_id</th>\n",
       "      <th>member_casual</th>\n",
       "      <th>ride_time</th>\n",
       "    </tr>\n",
       "  </thead>\n",
       "  <tbody>\n",
       "    <tr>\n",
       "      <th>3</th>\n",
       "      <td>classic_bike</td>\n",
       "      <td>2022-01-04 00:18:04</td>\n",
       "      <td>2022-01-04 00:33:00</td>\n",
       "      <td>KA1504000151</td>\n",
       "      <td>TA1309000021</td>\n",
       "      <td>casual</td>\n",
       "      <td>0 days 00:14:56</td>\n",
       "    </tr>\n",
       "    <tr>\n",
       "      <th>4</th>\n",
       "      <td>classic_bike</td>\n",
       "      <td>2022-01-20 01:31:10</td>\n",
       "      <td>2022-01-20 01:37:12</td>\n",
       "      <td>TA1309000002</td>\n",
       "      <td>TA1305000029</td>\n",
       "      <td>member</td>\n",
       "      <td>0 days 00:06:02</td>\n",
       "    </tr>\n",
       "    <tr>\n",
       "      <th>6</th>\n",
       "      <td>classic_bike</td>\n",
       "      <td>2022-01-30 18:32:52</td>\n",
       "      <td>2022-01-30 18:49:26</td>\n",
       "      <td>KA1504000158</td>\n",
       "      <td>13323</td>\n",
       "      <td>member</td>\n",
       "      <td>0 days 00:16:34</td>\n",
       "    </tr>\n",
       "    <tr>\n",
       "      <th>7</th>\n",
       "      <td>classic_bike</td>\n",
       "      <td>2022-01-22 12:20:02</td>\n",
       "      <td>2022-01-22 12:32:06</td>\n",
       "      <td>TA1306000016</td>\n",
       "      <td>13271</td>\n",
       "      <td>member</td>\n",
       "      <td>0 days 00:12:04</td>\n",
       "    </tr>\n",
       "    <tr>\n",
       "      <th>8</th>\n",
       "      <td>electric_bike</td>\n",
       "      <td>2022-01-17 07:34:41</td>\n",
       "      <td>2022-01-17 08:00:08</td>\n",
       "      <td>13304</td>\n",
       "      <td>WL-012</td>\n",
       "      <td>member</td>\n",
       "      <td>0 days 00:25:27</td>\n",
       "    </tr>\n",
       "    <tr>\n",
       "      <th>...</th>\n",
       "      <td>...</td>\n",
       "      <td>...</td>\n",
       "      <td>...</td>\n",
       "      <td>...</td>\n",
       "      <td>...</td>\n",
       "      <td>...</td>\n",
       "      <td>...</td>\n",
       "    </tr>\n",
       "    <tr>\n",
       "      <th>5667705</th>\n",
       "      <td>electric_bike</td>\n",
       "      <td>2022-12-29 17:31:30</td>\n",
       "      <td>2022-12-29 17:52:58</td>\n",
       "      <td>15642</td>\n",
       "      <td>TA1307000120</td>\n",
       "      <td>casual</td>\n",
       "      <td>0 days 00:21:28</td>\n",
       "    </tr>\n",
       "    <tr>\n",
       "      <th>5667707</th>\n",
       "      <td>electric_bike</td>\n",
       "      <td>2022-12-21 19:08:04</td>\n",
       "      <td>2022-12-21 19:17:14</td>\n",
       "      <td>13001</td>\n",
       "      <td>13158</td>\n",
       "      <td>member</td>\n",
       "      <td>0 days 00:09:10</td>\n",
       "    </tr>\n",
       "    <tr>\n",
       "      <th>5667709</th>\n",
       "      <td>electric_bike</td>\n",
       "      <td>2022-12-06 17:08:45</td>\n",
       "      <td>2022-12-06 17:14:43</td>\n",
       "      <td>TA1307000151</td>\n",
       "      <td>TA1307000120</td>\n",
       "      <td>member</td>\n",
       "      <td>0 days 00:05:58</td>\n",
       "    </tr>\n",
       "    <tr>\n",
       "      <th>5667713</th>\n",
       "      <td>electric_bike</td>\n",
       "      <td>2022-12-14 17:06:28</td>\n",
       "      <td>2022-12-14 17:19:27</td>\n",
       "      <td>18016</td>\n",
       "      <td>13144</td>\n",
       "      <td>member</td>\n",
       "      <td>0 days 00:12:59</td>\n",
       "    </tr>\n",
       "    <tr>\n",
       "      <th>5667716</th>\n",
       "      <td>classic_bike</td>\n",
       "      <td>2022-12-09 00:27:25</td>\n",
       "      <td>2022-12-09 00:35:28</td>\n",
       "      <td>13235</td>\n",
       "      <td>13144</td>\n",
       "      <td>casual</td>\n",
       "      <td>0 days 00:08:03</td>\n",
       "    </tr>\n",
       "  </tbody>\n",
       "</table>\n",
       "<p>3421062 rows × 7 columns</p>\n",
       "</div>"
      ],
      "text/plain": [
       "         rideable_type          started_at            ended_at  \\\n",
       "3         classic_bike 2022-01-04 00:18:04 2022-01-04 00:33:00   \n",
       "4         classic_bike 2022-01-20 01:31:10 2022-01-20 01:37:12   \n",
       "6         classic_bike 2022-01-30 18:32:52 2022-01-30 18:49:26   \n",
       "7         classic_bike 2022-01-22 12:20:02 2022-01-22 12:32:06   \n",
       "8        electric_bike 2022-01-17 07:34:41 2022-01-17 08:00:08   \n",
       "...                ...                 ...                 ...   \n",
       "5667705  electric_bike 2022-12-29 17:31:30 2022-12-29 17:52:58   \n",
       "5667707  electric_bike 2022-12-21 19:08:04 2022-12-21 19:17:14   \n",
       "5667709  electric_bike 2022-12-06 17:08:45 2022-12-06 17:14:43   \n",
       "5667713  electric_bike 2022-12-14 17:06:28 2022-12-14 17:19:27   \n",
       "5667716   classic_bike 2022-12-09 00:27:25 2022-12-09 00:35:28   \n",
       "\n",
       "        start_station_id end_station_id member_casual       ride_time  \n",
       "3           KA1504000151   TA1309000021        casual 0 days 00:14:56  \n",
       "4           TA1309000002   TA1305000029        member 0 days 00:06:02  \n",
       "6           KA1504000158          13323        member 0 days 00:16:34  \n",
       "7           TA1306000016          13271        member 0 days 00:12:04  \n",
       "8                  13304         WL-012        member 0 days 00:25:27  \n",
       "...                  ...            ...           ...             ...  \n",
       "5667705            15642   TA1307000120        casual 0 days 00:21:28  \n",
       "5667707            13001          13158        member 0 days 00:09:10  \n",
       "5667709     TA1307000151   TA1307000120        member 0 days 00:05:58  \n",
       "5667713            18016          13144        member 0 days 00:12:59  \n",
       "5667716            13235          13144        casual 0 days 00:08:03  \n",
       "\n",
       "[3421062 rows x 7 columns]"
      ]
     },
     "execution_count": 79,
     "metadata": {},
     "output_type": "execute_result"
    }
   ],
   "source": [
    "frame_req"
   ]
  },
  {
   "cell_type": "code",
   "execution_count": 51,
   "id": "99c7d0ad",
   "metadata": {},
   "outputs": [
    {
     "data": {
      "text/plain": [
       "<AxesSubplot:>"
      ]
     },
     "execution_count": 51,
     "metadata": {},
     "output_type": "execute_result"
    },
    {
     "data": {
      "image/png": "[encoded data removed]",
      "text/plain": [
       "<Figure size 432x288 with 1 Axes>"
      ]
     },
     "metadata": {
      "needs_background": "light"
     },
     "output_type": "display_data"
    }
   ],
   "source": [
    "frame_req['ride_time'].plot()"
   ]
  },
  {
   "cell_type": "code",
   "execution_count": 45,
   "id": "519e692c",
   "metadata": {},
   "outputs": [
    {
     "data": {
      "text/plain": [
       "rideable_type            0\n",
       "started_at               0\n",
       "ended_at                 0\n",
       "start_station_id    833064\n",
       "end_station_id      892742\n",
       "member_casual            0\n",
       "ride_time                0\n",
       "dtype: int64"
      ]
     },
     "execution_count": 45,
     "metadata": {},
     "output_type": "execute_result"
    }
   ],
   "source": [
    "frame_req.isna().sum()"
   ]
  },
  {
   "cell_type": "code",
   "execution_count": 18,
   "id": "81396b78",
   "metadata": {},
   "outputs": [
    {
     "name": "stderr",
     "output_type": "stream",
     "text": [
      "C:\\Users\\email\\AppData\\Local\\Temp/ipykernel_3004/189407239.py:1: SettingWithCopyWarning: \n",
      "A value is trying to be set on a copy of a slice from a DataFrame.\n",
      "Try using .loc[row_indexer,col_indexer] = value instead\n",
      "\n",
      "See the caveats in the documentation: https://pandas.pydata.org/pandas-docs/stable/user_guide/indexing.html#returning-a-view-versus-a-copy\n",
      "  frame_req['ended_at'] =  pd.to_datetime(frame_req['ended_at'])\n"
     ]
    }
   ],
   "source": [
    "frame_req['ended_at'] =  pd.to_datetime(frame_req['ended_at'])"
   ]
  },
  {
   "cell_type": "code",
   "execution_count": 25,
   "id": "8495ed9c",
   "metadata": {},
   "outputs": [
    {
     "data": {
      "text/plain": [
       "rideable_type                object\n",
       "started_at           datetime64[ns]\n",
       "ended_at             datetime64[ns]\n",
       "start_station_id             object\n",
       "end_station_id               object\n",
       "member_casual                object\n",
       "ride_time           timedelta64[ns]\n",
       "dtype: object"
      ]
     },
     "execution_count": 25,
     "metadata": {},
     "output_type": "execute_result"
    }
   ],
   "source": [
    "frame_req.dtypes"
   ]
  },
  {
   "cell_type": "code",
   "execution_count": 60,
   "id": "02910e50",
   "metadata": {},
   "outputs": [
    {
     "data": {
      "text/plain": [
       "ride_id               5667717\n",
       "rideable_type               3\n",
       "started_at            4745862\n",
       "ended_at              4758633\n",
       "start_station_name       1674\n",
       "start_station_id         1313\n",
       "end_station_name         1692\n",
       "end_station_id           1317\n",
       "start_lat              668346\n",
       "start_lng              631047\n",
       "end_lat                  1606\n",
       "end_lng                  1590\n",
       "member_casual               2\n",
       "dtype: int64"
      ]
     },
     "execution_count": 60,
     "metadata": {},
     "output_type": "execute_result"
    }
   ],
   "source": [
    "frame.nunique()"
   ]
  },
  {
   "cell_type": "code",
   "execution_count": 86,
   "id": "adab6990",
   "metadata": {},
   "outputs": [
    {
     "data": {
      "text/html": [
       "<div>\n",
       "<style scoped>\n",
       "    .dataframe tbody tr th:only-of-type {\n",
       "        vertical-align: middle;\n",
       "    }\n",
       "\n",
       "    .dataframe tbody tr th {\n",
       "        vertical-align: top;\n",
       "    }\n",
       "\n",
       "    .dataframe thead tr th {\n",
       "        text-align: left;\n",
       "    }\n",
       "\n",
       "    .dataframe thead tr:last-of-type th {\n",
       "        text-align: right;\n",
       "    }\n",
       "</style>\n",
       "<table border=\"1\" class=\"dataframe\">\n",
       "  <thead>\n",
       "    <tr>\n",
       "      <th></th>\n",
       "      <th></th>\n",
       "      <th>ride_id</th>\n",
       "    </tr>\n",
       "    <tr>\n",
       "      <th></th>\n",
       "      <th></th>\n",
       "      <th>count</th>\n",
       "    </tr>\n",
       "    <tr>\n",
       "      <th>rideable_type</th>\n",
       "      <th>member_casual</th>\n",
       "      <th></th>\n",
       "    </tr>\n",
       "  </thead>\n",
       "  <tbody>\n",
       "    <tr>\n",
       "      <th rowspan=\"2\" valign=\"top\">classic_bike</th>\n",
       "      <th>casual</th>\n",
       "      <td>732818</td>\n",
       "    </tr>\n",
       "    <tr>\n",
       "      <th>member</th>\n",
       "      <td>1322408</td>\n",
       "    </tr>\n",
       "    <tr>\n",
       "      <th>docked_bike</th>\n",
       "      <th>casual</th>\n",
       "      <td>130697</td>\n",
       "    </tr>\n",
       "    <tr>\n",
       "      <th rowspan=\"2\" valign=\"top\">electric_bike</th>\n",
       "      <th>casual</th>\n",
       "      <td>567956</td>\n",
       "    </tr>\n",
       "    <tr>\n",
       "      <th>member</th>\n",
       "      <td>667183</td>\n",
       "    </tr>\n",
       "  </tbody>\n",
       "</table>\n",
       "</div>"
      ],
      "text/plain": [
       "                             ride_id\n",
       "                               count\n",
       "rideable_type member_casual         \n",
       "classic_bike  casual          732818\n",
       "              member         1322408\n",
       "docked_bike   casual          130697\n",
       "electric_bike casual          567956\n",
       "              member          667183"
      ]
     },
     "execution_count": 86,
     "metadata": {},
     "output_type": "execute_result"
    }
   ],
   "source": [
    "frame_req[['ride_id','rideable_type','member_casual']].groupby(['rideable_type','member_casual']).agg(['count'])"
   ]
  },
  {
   "cell_type": "code",
   "execution_count": 65,
   "id": "abf50ede",
   "metadata": {},
   "outputs": [
    {
     "data": {
      "text/plain": [
       "array(['electric_bike', 'classic_bike', 'docked_bike'], dtype=object)"
      ]
     },
     "execution_count": 65,
     "metadata": {},
     "output_type": "execute_result"
    }
   ],
   "source": [
    "frame['rideable_type'].unique()"
   ]
  }
 ],
 "metadata": {
  "kernelspec": {
   "display_name": "Python 3 (ipykernel)",
   "language": "python",
   "name": "python3"
  },
  "language_info": {
   "codemirror_mode": {
    "name": "ipython",
    "version": 3
   },
   "file_extension": ".py",
   "mimetype": "text/x-python",
   "name": "python",
   "nbconvert_exporter": "python",
   "pygments_lexer": "ipython3",
   "version": "3.9.7"
  }
 },
 "nbformat": 4,
 "nbformat_minor": 5
}
