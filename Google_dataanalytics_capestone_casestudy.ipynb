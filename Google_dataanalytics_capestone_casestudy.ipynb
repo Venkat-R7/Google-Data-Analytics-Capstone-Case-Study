{
 "cells": [
  {
   "cell_type": "markdown",
   "id": "fc6296b7",
   "metadata": {},
   "source": [
    "###### Reading the required libraries"
   ]
  },
  {
   "cell_type": "code",
   "execution_count": 158,
   "id": "05fba85e",
   "metadata": {},
   "outputs": [],
   "source": [
    "import pandas as pd\n",
    "import glob\n",
    "import os\n",
    "import numpy as np"
   ]
  },
  {
   "cell_type": "markdown",
   "id": "1d689281",
   "metadata": {},
   "source": [
    "###### Reading the required data files and combining them to a single dataframe"
   ]
  },
  {
   "cell_type": "code",
   "execution_count": 3,
   "id": "77f5c152",
   "metadata": {},
   "outputs": [],
   "source": [
    "path = r'D:\\Power-Bi\\Google-Data-Analytics-Capstone-Case-Study\\Data' # use your path\n",
    "all_files = glob.glob(os.path.join(path , \"*.csv\"))\n",
    "##D:\\Power Bi\\Google-Data-Analytics-Capstone-Case-Study\\Data\n",
    "li = []\n",
    "\n",
    "for filename in all_files:\n",
    "    df = pd.read_csv(filename, index_col=None, header=0)\n",
    "    li.append(df)\n",
    "frame = pd.concat(li, axis=0, ignore_index=True)"
   ]
  },
  {
   "cell_type": "markdown",
   "id": "162cd6d9",
   "metadata": {},
   "source": [
    "###### Preparing and processing the data for analysis"
   ]
  },
  {
   "cell_type": "code",
   "execution_count": 152,
   "id": "c63f062d",
   "metadata": {},
   "outputs": [
    {
     "name": "stderr",
     "output_type": "stream",
     "text": [
      "C:\\Users\\email\\AppData\\Local\\Temp/ipykernel_3004/3292728272.py:5: SettingWithCopyWarning: \n",
      "A value is trying to be set on a copy of a slice from a DataFrame.\n",
      "Try using .loc[row_indexer,col_indexer] = value instead\n",
      "\n",
      "See the caveats in the documentation: https://pandas.pydata.org/pandas-docs/stable/user_guide/indexing.html#returning-a-view-versus-a-copy\n",
      "  frame_req['started_at'] =  pd.to_datetime(frame_req['started_at'])\n",
      "C:\\Users\\email\\AppData\\Local\\Temp/ipykernel_3004/3292728272.py:6: SettingWithCopyWarning: \n",
      "A value is trying to be set on a copy of a slice from a DataFrame.\n",
      "Try using .loc[row_indexer,col_indexer] = value instead\n",
      "\n",
      "See the caveats in the documentation: https://pandas.pydata.org/pandas-docs/stable/user_guide/indexing.html#returning-a-view-versus-a-copy\n",
      "  frame_req['ended_at'] =  pd.to_datetime(frame_req['ended_at'])\n",
      "C:\\Users\\email\\AppData\\Local\\Temp/ipykernel_3004/3292728272.py:9: SettingWithCopyWarning: \n",
      "A value is trying to be set on a copy of a slice from a DataFrame.\n",
      "Try using .loc[row_indexer,col_indexer] = value instead\n",
      "\n",
      "See the caveats in the documentation: https://pandas.pydata.org/pandas-docs/stable/user_guide/indexing.html#returning-a-view-versus-a-copy\n",
      "  frame_req['ride_time'] =  frame_req['ended_at'] - frame_req['started_at']\n"
     ]
    }
   ],
   "source": [
    "## Taking only the required columns\n",
    "frame_req = frame[['ride_id','rideable_type','started_at','ended_at','start_station_id','end_station_id','member_casual']]\n",
    "\n",
    "## Converting the datatypes to required ones\n",
    "frame_req['started_at'] =  pd.to_datetime(frame_req['started_at'])\n",
    "frame_req['ended_at'] =  pd.to_datetime(frame_req['ended_at'])\n",
    "\n",
    "## Calculating the ride time based on stand and end time\n",
    "frame_req['ride_time'] =  frame_req['ended_at'] - frame_req['started_at']"
   ]
  },
  {
   "cell_type": "code",
   "execution_count": 153,
   "id": "ef70443f",
   "metadata": {},
   "outputs": [
    {
     "data": {
      "text/plain": [
       "ride_id             0\n",
       "rideable_type       0\n",
       "started_at          0\n",
       "ended_at            0\n",
       "start_station_id    0\n",
       "end_station_id      0\n",
       "member_casual       0\n",
       "ride_time           0\n",
       "dtype: int64"
      ]
     },
     "execution_count": 153,
     "metadata": {},
     "output_type": "execute_result"
    }
   ],
   "source": [
    "## Checking number of null values in each columns\n",
    "frame_req.isna().sum()\n",
    "\n",
    "## Number of null values:\n",
    "## start_station_id    833064\n",
    "## end_station_id      892742\n",
    "\n",
    "## Dropping all rows with null values, woth the assumption that there is no start or end station id, \n",
    "## which could be error or corrupt records for analysis\n",
    "frame_req = frame_req.dropna(how='any',axis=0) \n",
    "\n",
    "## Re-chekcing for missing values\n",
    "frame_req.isna().sum() # 0"
   ]
  },
  {
   "cell_type": "code",
   "execution_count": 154,
   "id": "ec0b4677",
   "metadata": {},
   "outputs": [],
   "source": [
    "## Less than 2% entries are below 5mins in which few are in minus ride times\n",
    "## and around 3% entries are more than 1 hour, in which few are for many days\n",
    "## For the analysis and finding trend purpose purpose these records have been removed\n",
    "frame_req = frame_req[frame_req['ride_time'] > '00:05:00']\n",
    "frame_req = frame_req[frame_req['ride_time'] < '01:00:00'] "
   ]
  },
  {
   "cell_type": "code",
   "execution_count": 155,
   "id": "b33c6983",
   "metadata": {},
   "outputs": [],
   "source": [
    "## Checking for the type of riders against their ride type\n",
    "frame_req[['ride_id','rideable_type','member_casual']].groupby(['rideable_type','member_casual']).agg(['count'])\n",
    "\n",
    "## Docked bike is used only by casual users, thus comparision is not possible nor \n",
    "## there is any information about what docked bike is, thus removed from analysis\n",
    "frame_req = frame_req[frame_req['rideable_type'] != 'docked_bike']"
   ]
  },
  {
   "cell_type": "code",
   "execution_count": 156,
   "id": "5ef606aa",
   "metadata": {},
   "outputs": [],
   "source": [
    "## Finding the data of the week when a ride starts to find patterns\n",
    "frame_req['day_of_week'] = frame_req['started_at'].dt.day_name()"
   ]
  },
  {
   "cell_type": "code",
   "execution_count": 159,
   "id": "6f893cc7",
   "metadata": {},
   "outputs": [],
   "source": [
    "conditions = [\n",
    "    (frame_req['ride_time'] > '00:00:00') & (frame_req['ride_time'] <= '00:10:00'),\n",
    "    (frame_req['ride_time'] > '00:10:00') & (frame_req['ride_time'] <= '00:20:00'),\n",
    "    (frame_req['ride_time'] > '00:20:00') & (frame_req['ride_time'] <= '00:30:00'),\n",
    "    (frame_req['ride_time'] > '00:30:00') & (frame_req['ride_time'] <= '00:40:00'),\n",
    "    (frame_req['ride_time'] > '00:40:00') & (frame_req['ride_time'] <= '00:50:00'),\n",
    "    (frame_req['ride_time'] > '00:50:00') & (frame_req['ride_time'] <= '00:60:00'),\n",
    "]\n",
    "\n",
    "values = ['0-10', '10-20', '20-30', '30-40', '40-50', '50-60']\n",
    "\n",
    "frame_req['Range'] = np.select(conditions, values)"
   ]
  },
  {
   "cell_type": "code",
   "execution_count": 164,
   "id": "adab6990",
   "metadata": {},
   "outputs": [],
   "source": [
    "ride_counts = frame_req[['ride_id','rideable_type','member_casual']].groupby(['rideable_type','member_casual']).agg(['count'])\n",
    "ride_counts = ride_counts.reset_index()"
   ]
  },
  {
   "cell_type": "code",
   "execution_count": 168,
   "id": "11464fad",
   "metadata": {},
   "outputs": [
    {
     "data": {
      "text/html": [
       "<div>\n",
       "<style scoped>\n",
       "    .dataframe tbody tr th:only-of-type {\n",
       "        vertical-align: middle;\n",
       "    }\n",
       "\n",
       "    .dataframe tbody tr th {\n",
       "        vertical-align: top;\n",
       "    }\n",
       "\n",
       "    .dataframe thead tr th {\n",
       "        text-align: left;\n",
       "    }\n",
       "\n",
       "    .dataframe thead tr:last-of-type th {\n",
       "        text-align: right;\n",
       "    }\n",
       "</style>\n",
       "<table border=\"1\" class=\"dataframe\">\n",
       "  <thead>\n",
       "    <tr>\n",
       "      <th></th>\n",
       "      <th></th>\n",
       "      <th>ride_id</th>\n",
       "    </tr>\n",
       "    <tr>\n",
       "      <th></th>\n",
       "      <th></th>\n",
       "      <th>count</th>\n",
       "    </tr>\n",
       "    <tr>\n",
       "      <th>Range</th>\n",
       "      <th>rideable_type</th>\n",
       "      <th></th>\n",
       "    </tr>\n",
       "  </thead>\n",
       "  <tbody>\n",
       "    <tr>\n",
       "      <th rowspan=\"2\" valign=\"top\">0-10</th>\n",
       "      <th>classic_bike</th>\n",
       "      <td>731734</td>\n",
       "    </tr>\n",
       "    <tr>\n",
       "      <th>electric_bike</th>\n",
       "      <td>513321</td>\n",
       "    </tr>\n",
       "    <tr>\n",
       "      <th rowspan=\"2\" valign=\"top\">10-20</th>\n",
       "      <th>classic_bike</th>\n",
       "      <td>772209</td>\n",
       "    </tr>\n",
       "    <tr>\n",
       "      <th>electric_bike</th>\n",
       "      <td>478110</td>\n",
       "    </tr>\n",
       "    <tr>\n",
       "      <th rowspan=\"2\" valign=\"top\">20-30</th>\n",
       "      <th>classic_bike</th>\n",
       "      <td>308125</td>\n",
       "    </tr>\n",
       "    <tr>\n",
       "      <th>electric_bike</th>\n",
       "      <td>147284</td>\n",
       "    </tr>\n",
       "    <tr>\n",
       "      <th rowspan=\"2\" valign=\"top\">30-40</th>\n",
       "      <th>classic_bike</th>\n",
       "      <td>144539</td>\n",
       "    </tr>\n",
       "    <tr>\n",
       "      <th>electric_bike</th>\n",
       "      <td>55427</td>\n",
       "    </tr>\n",
       "    <tr>\n",
       "      <th rowspan=\"2\" valign=\"top\">40-50</th>\n",
       "      <th>classic_bike</th>\n",
       "      <td>67150</td>\n",
       "    </tr>\n",
       "    <tr>\n",
       "      <th>electric_bike</th>\n",
       "      <td>26392</td>\n",
       "    </tr>\n",
       "    <tr>\n",
       "      <th rowspan=\"2\" valign=\"top\">50-60</th>\n",
       "      <th>classic_bike</th>\n",
       "      <td>31469</td>\n",
       "    </tr>\n",
       "    <tr>\n",
       "      <th>electric_bike</th>\n",
       "      <td>14605</td>\n",
       "    </tr>\n",
       "  </tbody>\n",
       "</table>\n",
       "</div>"
      ],
      "text/plain": [
       "                    ride_id\n",
       "                      count\n",
       "Range rideable_type        \n",
       "0-10  classic_bike   731734\n",
       "      electric_bike  513321\n",
       "10-20 classic_bike   772209\n",
       "      electric_bike  478110\n",
       "20-30 classic_bike   308125\n",
       "      electric_bike  147284\n",
       "30-40 classic_bike   144539\n",
       "      electric_bike   55427\n",
       "40-50 classic_bike    67150\n",
       "      electric_bike   26392\n",
       "50-60 classic_bike    31469\n",
       "      electric_bike   14605"
      ]
     },
     "execution_count": 168,
     "metadata": {},
     "output_type": "execute_result"
    }
   ],
   "source": [
    "frame_req[['ride_id','rideable_type','Range']].groupby(['Range','rideable_type']).agg(['count'])\n"
   ]
  }
 ],
 "metadata": {
  "kernelspec": {
   "display_name": "Python 3 (ipykernel)",
   "language": "python",
   "name": "python3"
  },
  "language_info": {
   "codemirror_mode": {
    "name": "ipython",
    "version": 3
   },
   "file_extension": ".py",
   "mimetype": "text/x-python",
   "name": "python",
   "nbconvert_exporter": "python",
   "pygments_lexer": "ipython3",
   "version": "3.9.7"
  }
 },
 "nbformat": 4,
 "nbformat_minor": 5
}
